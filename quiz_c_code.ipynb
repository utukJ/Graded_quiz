{
  "nbformat": 4,
  "nbformat_minor": 0,
  "metadata": {
    "colab": {
      "name": "quiz_c_code.ipynb",
      "provenance": [],
      "collapsed_sections": [],
      "authorship_tag": "ABX9TyOXwl+xZAI6mF/1JHg0yAu2",
      "include_colab_link": true
    },
    "kernelspec": {
      "name": "python3",
      "display_name": "Python 3"
    }
  },
  "cells": [
    {
      "cell_type": "markdown",
      "metadata": {
        "id": "view-in-github",
        "colab_type": "text"
      },
      "source": [
        "<a href=\"https://colab.research.google.com/github/utukJ/Graded_quiz/blob/master/quiz_c_code.ipynb\" target=\"_parent\"><img src=\"https://colab.research.google.com/assets/colab-badge.svg\" alt=\"Open In Colab\"/></a>"
      ]
    },
    {
      "cell_type": "code",
      "metadata": {
        "id": "ZpuB8A2U-mpD",
        "colab_type": "code",
        "colab": {}
      },
      "source": [
        "# importing relevant libraries\n",
        "\n",
        "import numpy as np\n",
        "import pandas as pd"
      ],
      "execution_count": 36,
      "outputs": []
    },
    {
      "cell_type": "code",
      "metadata": {
        "id": "psZbuIO1E7lO",
        "colab_type": "code",
        "colab": {}
      },
      "source": [
        "# getting the dataset into a pandas dataframe\n",
        "\n",
        "df = pd.read_csv(\"https://archive.ics.uci.edu/ml/machine-learning-databases/00471/Data_for_UCI_named.csv\") "
      ],
      "execution_count": 37,
      "outputs": []
    },
    {
      "cell_type": "code",
      "metadata": {
        "id": "EQScNAYCIRaw",
        "colab_type": "code",
        "colab": {
          "base_uri": "https://localhost:8080/",
          "height": 68
        },
        "outputId": "4c44efd3-cd39-4d48-e701-d3bff157911b"
      },
      "source": [
        "# checking the value counts of the two classes of the target column\n",
        "\n",
        "df.stabf.value_counts()"
      ],
      "execution_count": 38,
      "outputs": [
        {
          "output_type": "execute_result",
          "data": {
            "text/plain": [
              "unstable    6380\n",
              "stable      3620\n",
              "Name: stabf, dtype: int64"
            ]
          },
          "metadata": {
            "tags": []
          },
          "execution_count": 38
        }
      ]
    },
    {
      "cell_type": "code",
      "metadata": {
        "id": "Q8iUpke_QlSs",
        "colab_type": "code",
        "colab": {}
      },
      "source": [
        "# dropping the stab column\n",
        "\n",
        "df.drop(columns = ['stab'], inplace = True)"
      ],
      "execution_count": 39,
      "outputs": []
    },
    {
      "cell_type": "code",
      "metadata": {
        "id": "ADOfewxFyYXN",
        "colab_type": "code",
        "colab": {}
      },
      "source": [
        "# data preprocessing\n",
        "\n",
        "from sklearn.model_selection import train_test_split\n",
        "from sklearn.preprocessing import StandardScaler\n",
        "\n",
        "predictors = df.drop(columns = ['stabf'])\n",
        "target = df['stabf']\n",
        "\n",
        "x_train, x_test, y_train, y_test = train_test_split(predictors, target, test_size = 0.2, random_state = 1)\n",
        "\n",
        "scaler = StandardScaler()\n",
        "x_train = scaler.fit_transform(x_train)\n",
        "x_test = scaler.transform(x_test)"
      ],
      "execution_count": 40,
      "outputs": []
    },
    {
      "cell_type": "code",
      "metadata": {
        "id": "Acrb_jgEzn0A",
        "colab_type": "code",
        "colab": {
          "base_uri": "https://localhost:8080/",
          "height": 357
        },
        "outputId": "cbb7b0ff-b43f-4856-abd8-4dda62d389fd"
      },
      "source": [
        "# training a random forest and extra trees classifier \n",
        "\n",
        "from sklearn.ensemble import RandomForestClassifier, ExtraTreesClassifier\n",
        "from sklearn.metrics import classification_report, accuracy_score, precision_score, recall_score, confusion_matrix\n",
        "\n",
        "rf_clf = RandomForestClassifier(random_state = 1)\n",
        "ex_clf = ExtraTreesClassifier(random_state = 1)\n",
        "\n",
        "rf_clf.fit(x_train, y_train)\n",
        "ex_clf.fit(x_train, y_train)\n",
        "\n",
        "# evaluating the classifiers on the test set\n",
        "\n",
        "rf_preds = rf_clf.predict(x_test)\n",
        "ex_preds = ex_clf.predict(x_test)\n",
        "\n",
        "print(\"RF report: \")\n",
        "print(classification_report(y_test, rf_preds, digits = 5))\n",
        "\n",
        "print(\"Ex Trees report: \")\n",
        "print(classification_report(y_test, ex_preds, digits = 5))"
      ],
      "execution_count": 42,
      "outputs": [
        {
          "output_type": "stream",
          "text": [
            "RF report: \n",
            "              precision    recall  f1-score   support\n",
            "\n",
            "      stable    0.91912   0.87781   0.89799       712\n",
            "    unstable    0.93409   0.95730   0.94555      1288\n",
            "\n",
            "    accuracy                        0.92900      2000\n",
            "   macro avg    0.92660   0.91755   0.92177      2000\n",
            "weighted avg    0.92876   0.92900   0.92862      2000\n",
            "\n",
            "Ex Trees report: \n",
            "              precision    recall  f1-score   support\n",
            "\n",
            "      stable    0.94099   0.85112   0.89381       712\n",
            "    unstable    0.92183   0.97050   0.94554      1288\n",
            "\n",
            "    accuracy                        0.92800      2000\n",
            "   macro avg    0.93141   0.91081   0.91967      2000\n",
            "weighted avg    0.92865   0.92800   0.92712      2000\n",
            "\n"
          ],
          "name": "stdout"
        }
      ]
    },
    {
      "cell_type": "code",
      "metadata": {
        "id": "1_AuFTCDBuQM",
        "colab_type": "code",
        "colab": {
          "base_uri": "https://localhost:8080/",
          "height": 187
        },
        "outputId": "5fd9f2c4-5023-4419-aa0b-e12963f35d7a"
      },
      "source": [
        "# training an extreme gradient boosting model\n",
        "\n",
        "from xgboost import XGBClassifier\n",
        "\n",
        "xgb_clf = XGBClassifier(random_state=1).fit(x_train, y_train)\n",
        "\n",
        "xgb_preds = xgb_clf.predict(x_test)\n",
        "\n",
        "print(\"XGB classification report: \")\n",
        "print(classification_report(y_test, xgb_preds, digits = 5))"
      ],
      "execution_count": 54,
      "outputs": [
        {
          "output_type": "stream",
          "text": [
            "XGB classification report: \n",
            "              precision    recall  f1-score   support\n",
            "\n",
            "      stable    0.92061   0.84691   0.88222       712\n",
            "    unstable    0.91896   0.95963   0.93885      1288\n",
            "\n",
            "    accuracy                        0.91950      2000\n",
            "   macro avg    0.91978   0.90327   0.91054      2000\n",
            "weighted avg    0.91955   0.91950   0.91869      2000\n",
            "\n"
          ],
          "name": "stdout"
        }
      ]
    },
    {
      "cell_type": "code",
      "metadata": {
        "id": "eQyDR3eeJnxZ",
        "colab_type": "code",
        "colab": {
          "base_uri": "https://localhost:8080/",
          "height": 187
        },
        "outputId": "f5992fb7-04ad-4806-90ee-4b84e343aaf1"
      },
      "source": [
        "# training a light gradient boosting model\n",
        "\n",
        "from lightgbm import LGBMClassifier\n",
        "\n",
        "lbm_clf = LGBMClassifier(random_state = 1).fit(x_train, y_train)\n",
        "\n",
        "lbm_preds = lbm_clf.predict(x_test)\n",
        "\n",
        "print(\"LightGBM classification report\")\n",
        "print(classification_report(y_test, lbm_preds, digits = 5))"
      ],
      "execution_count": 55,
      "outputs": [
        {
          "output_type": "stream",
          "text": [
            "LightGBM classification report\n",
            "              precision    recall  f1-score   support\n",
            "\n",
            "      stable    0.92972   0.89185   0.91039       712\n",
            "    unstable    0.94153   0.96273   0.95202      1288\n",
            "\n",
            "    accuracy                        0.93750      2000\n",
            "   macro avg    0.93563   0.92729   0.93120      2000\n",
            "weighted avg    0.93733   0.93750   0.93720      2000\n",
            "\n"
          ],
          "name": "stdout"
        }
      ]
    },
    {
      "cell_type": "code",
      "metadata": {
        "id": "lSBgzK8i22p8",
        "colab_type": "code",
        "colab": {
          "base_uri": "https://localhost:8080/",
          "height": 85
        },
        "outputId": "4f73af3f-83c6-4c87-c57d-a2c41a8053f4"
      },
      "source": [
        "# improving extra trees using randomized hyperparameter search\n",
        "\n",
        "from sklearn.model_selection import RandomizedSearchCV\n",
        "\n",
        "n_estimators = [50, 100, 300, 500, 1000]\n",
        "min_samples_split = [2, 3, 5, 7, 9]\n",
        "min_samples_leaf = [1, 2, 4, 6, 8]\n",
        "max_features = ['auto', 'sqrt', 'log2', None] \n",
        "\n",
        "hyperparameter_grid = {'n_estimators': n_estimators,\n",
        "                       'min_samples_leaf': min_samples_leaf,\n",
        "                       'min_samples_split': min_samples_split,\n",
        "                       'max_features': max_features}\n",
        "\n",
        "search_clf = RandomizedSearchCV(ExtraTreesClassifier(), hyperparameter_grid, cv = 5, n_iter=10, scoring = 'accuracy', n_jobs = -1, verbose = 1, random_state = 1)\n",
        "search_clf.fit(x_train, y_train)\n",
        "preds = search_clf.predict(x_test)\n"
      ],
      "execution_count": 56,
      "outputs": [
        {
          "output_type": "stream",
          "text": [
            "Fitting 5 folds for each of 10 candidates, totalling 50 fits\n"
          ],
          "name": "stdout"
        },
        {
          "output_type": "stream",
          "text": [
            "[Parallel(n_jobs=-1)]: Using backend LokyBackend with 2 concurrent workers.\n",
            "[Parallel(n_jobs=-1)]: Done  46 tasks      | elapsed:  1.4min\n",
            "[Parallel(n_jobs=-1)]: Done  50 out of  50 | elapsed:  1.5min finished\n"
          ],
          "name": "stderr"
        }
      ]
    },
    {
      "cell_type": "code",
      "metadata": {
        "id": "CUgBcQlk5LBi",
        "colab_type": "code",
        "colab": {
          "base_uri": "https://localhost:8080/",
          "height": 85
        },
        "outputId": "0e96fa6e-7eed-44d3-f4b5-f4b2c31adea3"
      },
      "source": [
        "search_clf.best_params_"
      ],
      "execution_count": 57,
      "outputs": [
        {
          "output_type": "execute_result",
          "data": {
            "text/plain": [
              "{'max_features': None,\n",
              " 'min_samples_leaf': 8,\n",
              " 'min_samples_split': 2,\n",
              " 'n_estimators': 1000}"
            ]
          },
          "metadata": {
            "tags": []
          },
          "execution_count": 57
        }
      ]
    },
    {
      "cell_type": "code",
      "metadata": {
        "id": "8YKF20hlDBeQ",
        "colab_type": "code",
        "colab": {
          "base_uri": "https://localhost:8080/",
          "height": 187
        },
        "outputId": "49caf184-366e-40a8-dd34-d814aaec2a7a"
      },
      "source": [
        "optim_clf = ExtraTreesClassifier(max_features = None, min_samples_leaf = 8, min_samples_split = 2, n_estimators = 1000, random_state = 1)\n",
        "optim_clf.fit(x_train, y_train)\n",
        "optim_preds = optim_clf.predict(x_test)\n",
        "print(\"Optimized Extra trees report: \")\n",
        "print(classification_report(y_test, optim_preds, digits = 5))"
      ],
      "execution_count": 66,
      "outputs": [
        {
          "output_type": "stream",
          "text": [
            "Optimized Extra trees report: \n",
            "              precision    recall  f1-score   support\n",
            "\n",
            "      stable    0.92113   0.86938   0.89451       712\n",
            "    unstable    0.92997   0.95885   0.94419      1288\n",
            "\n",
            "    accuracy                        0.92700      2000\n",
            "   macro avg    0.92555   0.91412   0.91935      2000\n",
            "weighted avg    0.92682   0.92700   0.92650      2000\n",
            "\n"
          ],
          "name": "stdout"
        }
      ]
    },
    {
      "cell_type": "code",
      "metadata": {
        "id": "e2SBqykCGqlj",
        "colab_type": "code",
        "colab": {
          "base_uri": "https://localhost:8080/",
          "height": 85
        },
        "outputId": "04536dc4-76bd-4d8f-dea6-57bb43db4960"
      },
      "source": [
        "print(optim_clf.feature_importances_)\n",
        "print(optim_clf.feature_importances_.argmax())\n",
        "print(optim_clf.feature_importances_.argmin())"
      ],
      "execution_count": 61,
      "outputs": [
        {
          "output_type": "stream",
          "text": [
            "[0.13723975 0.1405075  0.13468029 0.13541676 0.00368342 0.00533686\n",
            " 0.00542927 0.00496249 0.10256244 0.10757765 0.11306268 0.10954089]\n",
            "1\n",
            "4\n"
          ],
          "name": "stdout"
        }
      ]
    },
    {
      "cell_type": "code",
      "metadata": {
        "id": "KLf_WY1fHWsi",
        "colab_type": "code",
        "colab": {
          "base_uri": "https://localhost:8080/",
          "height": 204
        },
        "outputId": "f61ad2f6-2c76-4f73-e9eb-fe8a6e3d8958"
      },
      "source": [
        "predictors.head()"
      ],
      "execution_count": 63,
      "outputs": [
        {
          "output_type": "execute_result",
          "data": {
            "text/html": [
              "<div>\n",
              "<style scoped>\n",
              "    .dataframe tbody tr th:only-of-type {\n",
              "        vertical-align: middle;\n",
              "    }\n",
              "\n",
              "    .dataframe tbody tr th {\n",
              "        vertical-align: top;\n",
              "    }\n",
              "\n",
              "    .dataframe thead th {\n",
              "        text-align: right;\n",
              "    }\n",
              "</style>\n",
              "<table border=\"1\" class=\"dataframe\">\n",
              "  <thead>\n",
              "    <tr style=\"text-align: right;\">\n",
              "      <th></th>\n",
              "      <th>tau1</th>\n",
              "      <th>tau2</th>\n",
              "      <th>tau3</th>\n",
              "      <th>tau4</th>\n",
              "      <th>p1</th>\n",
              "      <th>p2</th>\n",
              "      <th>p3</th>\n",
              "      <th>p4</th>\n",
              "      <th>g1</th>\n",
              "      <th>g2</th>\n",
              "      <th>g3</th>\n",
              "      <th>g4</th>\n",
              "    </tr>\n",
              "  </thead>\n",
              "  <tbody>\n",
              "    <tr>\n",
              "      <th>0</th>\n",
              "      <td>2.959060</td>\n",
              "      <td>3.079885</td>\n",
              "      <td>8.381025</td>\n",
              "      <td>9.780754</td>\n",
              "      <td>3.763085</td>\n",
              "      <td>-0.782604</td>\n",
              "      <td>-1.257395</td>\n",
              "      <td>-1.723086</td>\n",
              "      <td>0.650456</td>\n",
              "      <td>0.859578</td>\n",
              "      <td>0.887445</td>\n",
              "      <td>0.958034</td>\n",
              "    </tr>\n",
              "    <tr>\n",
              "      <th>1</th>\n",
              "      <td>9.304097</td>\n",
              "      <td>4.902524</td>\n",
              "      <td>3.047541</td>\n",
              "      <td>1.369357</td>\n",
              "      <td>5.067812</td>\n",
              "      <td>-1.940058</td>\n",
              "      <td>-1.872742</td>\n",
              "      <td>-1.255012</td>\n",
              "      <td>0.413441</td>\n",
              "      <td>0.862414</td>\n",
              "      <td>0.562139</td>\n",
              "      <td>0.781760</td>\n",
              "    </tr>\n",
              "    <tr>\n",
              "      <th>2</th>\n",
              "      <td>8.971707</td>\n",
              "      <td>8.848428</td>\n",
              "      <td>3.046479</td>\n",
              "      <td>1.214518</td>\n",
              "      <td>3.405158</td>\n",
              "      <td>-1.207456</td>\n",
              "      <td>-1.277210</td>\n",
              "      <td>-0.920492</td>\n",
              "      <td>0.163041</td>\n",
              "      <td>0.766689</td>\n",
              "      <td>0.839444</td>\n",
              "      <td>0.109853</td>\n",
              "    </tr>\n",
              "    <tr>\n",
              "      <th>3</th>\n",
              "      <td>0.716415</td>\n",
              "      <td>7.669600</td>\n",
              "      <td>4.486641</td>\n",
              "      <td>2.340563</td>\n",
              "      <td>3.963791</td>\n",
              "      <td>-1.027473</td>\n",
              "      <td>-1.938944</td>\n",
              "      <td>-0.997374</td>\n",
              "      <td>0.446209</td>\n",
              "      <td>0.976744</td>\n",
              "      <td>0.929381</td>\n",
              "      <td>0.362718</td>\n",
              "    </tr>\n",
              "    <tr>\n",
              "      <th>4</th>\n",
              "      <td>3.134112</td>\n",
              "      <td>7.608772</td>\n",
              "      <td>4.943759</td>\n",
              "      <td>9.857573</td>\n",
              "      <td>3.525811</td>\n",
              "      <td>-1.125531</td>\n",
              "      <td>-1.845975</td>\n",
              "      <td>-0.554305</td>\n",
              "      <td>0.797110</td>\n",
              "      <td>0.455450</td>\n",
              "      <td>0.656947</td>\n",
              "      <td>0.820923</td>\n",
              "    </tr>\n",
              "  </tbody>\n",
              "</table>\n",
              "</div>"
            ],
            "text/plain": [
              "       tau1      tau2      tau3  ...        g2        g3        g4\n",
              "0  2.959060  3.079885  8.381025  ...  0.859578  0.887445  0.958034\n",
              "1  9.304097  4.902524  3.047541  ...  0.862414  0.562139  0.781760\n",
              "2  8.971707  8.848428  3.046479  ...  0.766689  0.839444  0.109853\n",
              "3  0.716415  7.669600  4.486641  ...  0.976744  0.929381  0.362718\n",
              "4  3.134112  7.608772  4.943759  ...  0.455450  0.656947  0.820923\n",
              "\n",
              "[5 rows x 12 columns]"
            ]
          },
          "metadata": {
            "tags": []
          },
          "execution_count": 63
        }
      ]
    },
    {
      "cell_type": "code",
      "metadata": {
        "id": "2ca7WgBt9oSd",
        "colab_type": "code",
        "colab": {
          "base_uri": "https://localhost:8080/",
          "height": 34
        },
        "outputId": "a239d373-3217-41a9-8a46-51830e21c8ed"
      },
      "source": [
        "# code for calculating f1_score given True positive, false positive, etc\n",
        "\n",
        "\n",
        "tp = 355\n",
        "fp = 1480\n",
        "tn = 120\n",
        "fn =  45\n",
        "\n",
        "precision = tp/(tp + fp)\n",
        "recall = tp/(tp + fn)\n",
        "f1 = 2*precision*recall/(precision+recall)\n",
        "\n",
        "print(\"f1_score: \", f1)"
      ],
      "execution_count": 65,
      "outputs": [
        {
          "output_type": "stream",
          "text": [
            "f1_score:  0.3176733780760626\n"
          ],
          "name": "stdout"
        }
      ]
    }
  ]
}